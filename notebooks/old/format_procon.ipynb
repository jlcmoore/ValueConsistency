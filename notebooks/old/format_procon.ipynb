{
 "cells": [
  {
   "cell_type": "code",
   "execution_count": 1,
   "id": "68736afc-c4bc-4779-a617-60bd548ca36f",
   "metadata": {},
   "outputs": [],
   "source": [
    "import os\n",
    "import pandas as pd\n",
    "from valuebank import rephrase"
   ]
  },
  {
   "cell_type": "code",
   "execution_count": 2,
   "id": "1db1dfc5-e995-4645-8a4e-01ced51922bb",
   "metadata": {},
   "outputs": [],
   "source": [
    "os.chdir('..')"
   ]
  },
  {
   "cell_type": "markdown",
   "id": "90fb8196-49e4-4d54-8cc8-2fa8c953d5f1",
   "metadata": {},
   "source": [
    "## Load in original data"
   ]
  },
  {
   "cell_type": "code",
   "execution_count": 3,
   "id": "8c4432d4-c692-4915-a916-ba6f48b57d0b",
   "metadata": {},
   "outputs": [],
   "source": [
    "procon_file = 'external_data/procon20/train.tsv'\n",
    "df = pd.read_csv(procon_file, sep='\\t', header=None, names=[\"pro\", \"issue\", \"argument\"])\n",
    "df['pro'] = df['pro'].apply(lambda x: x == 1) # '01' is pro '10' is con"
   ]
  },
  {
   "cell_type": "code",
   "execution_count": 4,
   "id": "9ee7d4b3-8555-4ac1-9862-67d12531b9c4",
   "metadata": {},
   "outputs": [
    {
     "data": {
      "text/plain": [
       "Index(['pro', 'issue', 'argument'], dtype='object')"
      ]
     },
     "execution_count": 4,
     "metadata": {},
     "output_type": "execute_result"
    }
   ],
   "source": [
    "df.columns"
   ]
  },
  {
   "cell_type": "code",
   "execution_count": 5,
   "id": "6631f41b-6875-49bb-af76-0847b7eb2848",
   "metadata": {},
   "outputs": [],
   "source": [
    "df['issue'] = df.apply(lambda x: x['issue'].split('?')[0]+'?', axis=1)"
   ]
  },
  {
   "cell_type": "code",
   "execution_count": 6,
   "id": "d87d3e2a-831e-4786-8eef-08322dd9153a",
   "metadata": {},
   "outputs": [],
   "source": [
    "issues = df['issue'].unique()"
   ]
  },
  {
   "cell_type": "code",
   "execution_count": 7,
   "id": "dc6bf91c-d58c-4343-8549-81b9ade46b90",
   "metadata": {},
   "outputs": [],
   "source": [
    "tiny_issues = issues[0:10]"
   ]
  },
  {
   "cell_type": "code",
   "execution_count": 12,
   "id": "6c2441f1-a66d-472b-bfa5-c2b983799cab",
   "metadata": {},
   "outputs": [],
   "source": [
    "answers = [['yes', 'no']] * len(tiny_issues)\n",
    "questions = list(zip(tiny_issues, answers))"
   ]
  },
  {
   "cell_type": "code",
   "execution_count": 13,
   "id": "dbe83adc-f961-493e-be4e-6a43b1345425",
   "metadata": {},
   "outputs": [
    {
     "name": "stderr",
     "output_type": "stream",
     "text": [
      "100%|███████████████████████████████████████████████████████████████████████████████████████████████████████████████████████████████████████████████| 10/10 [00:00<00:00, 1465.21it/s]"
     ]
    },
    {
     "name": "stdout",
     "output_type": "stream",
     "text": [
      "Total input tokens: 1496\n",
      "Total output tokens: 1280\n",
      "Total cost: $0.12167999999999998\n"
     ]
    },
    {
     "name": "stderr",
     "output_type": "stream",
     "text": [
      "\n"
     ]
    }
   ],
   "source": [
    "rephrase(questions, 'gpt-4-0613', count_tokens=True)"
   ]
  },
  {
   "cell_type": "code",
   "execution_count": 14,
   "id": "0172b61a-e5e2-4cfb-a573-a797a9c568f6",
   "metadata": {},
   "outputs": [
    {
     "name": "stderr",
     "output_type": "stream",
     "text": [
      "100%|█████████████████████████████████████████████████████████████████████████████████████████████████████████████████████████████████████████████████| 10/10 [00:24<00:00,  2.44s/it]\n"
     ]
    }
   ],
   "source": [
    "rephrased = rephrase(questions, 'gpt-4-0613', count_tokens=False)"
   ]
  },
  {
   "cell_type": "code",
   "execution_count": 15,
   "id": "225b1573-5680-4834-b2ba-8a7dd1339314",
   "metadata": {},
   "outputs": [],
   "source": [
    "records = []\n",
    "for issue, rephrasings in zip(tiny_issues, rephrased):\n",
    "    questions = set([issue] + rephrasings)\n",
    "    for question in questions:\n",
    "        records.append({'question' : question, 'options' : ['yes', 'no'], 'original' : issue, 'rephrase' : question != issue})"
   ]
  },
  {
   "cell_type": "code",
   "execution_count": 51,
   "id": "7347fab4-b58f-47da-8279-d1f2fdea4913",
   "metadata": {},
   "outputs": [],
   "source": [
    "filename = 'procon_tiny.jsonl'\n",
    "pd.DataFrame(records).to_json(filename, lines=True, orient='records')"
   ]
  },
  {
   "cell_type": "markdown",
   "id": "fc885b7b-adf4-4ebc-8d6f-53ae47ed9462",
   "metadata": {},
   "source": [
    "## old rephrasing"
   ]
  },
  {
   "cell_type": "code",
   "execution_count": 34,
   "id": "a03a8c9c-66d0-4130-a1a6-c19041610a9b",
   "metadata": {},
   "outputs": [],
   "source": [
    "REPHRASE = \"Rephrase the following question as a gerund. Do not capitalize or end the phrase with a period.\\n\\n\"\n",
    "\n",
    "few_shot_messages =[\n",
    "    {\n",
    "      \"role\": \"user\",\n",
    "      \"content\": REPHRASE + \"\\\"Should the Death Penalty Be Legal?\\\"\"\n",
    "    },\n",
    "    {\n",
    "      \"role\": \"assistant\",\n",
    "      \"content\": \"legalizing the death penalty\"\n",
    "    },\n",
    "    {\n",
    "      \"role\": \"user\",\n",
    "      \"content\": REPHRASE + \"\\\"Is Solar Power an Economical Alternative to Conventional Energy?\\\"\"\n",
    "    },\n",
    "    {\n",
    "      \"role\": \"assistant\",\n",
    "      \"content\": \"the economical viability of solar power as an alternative to conventional energy\"\n",
    "    }]"
   ]
  },
  {
   "cell_type": "code",
   "execution_count": 26,
   "id": "0eafcf0c-2448-4122-8489-339a590dc4f7",
   "metadata": {},
   "outputs": [],
   "source": [
    "client = openai.OpenAI(organization =\"org-EryH1QYCQUIHJGviV3ile7Z1\" )"
   ]
  },
  {
   "cell_type": "code",
   "execution_count": 35,
   "id": "22de292c-1d4a-4b6a-a323-158a5bb2b493",
   "metadata": {},
   "outputs": [],
   "source": [
    "rephrased = []\n",
    "for question in issues:\n",
    "    messages = copy.deepcopy(few_shot_messages)\n",
    "    messages.append({'role' : 'user', 'content' : REPHRASE + f'\"{question}\"'})\n",
    "    result = client.chat.completions.create(model='gpt-3.5-turbo-1106',\n",
    "                                               messages=(messages),\n",
    "                                               temperature=0,\n",
    "                                               max_tokens=30)\n",
    "    rephrased.append(result.choices[0].message.content)"
   ]
  },
  {
   "cell_type": "code",
   "execution_count": 47,
   "id": "2da8bbff-1812-4755-a5c3-5ce9873d89d4",
   "metadata": {},
   "outputs": [],
   "source": [
    "filename = 'procon.jsonl'\n",
    "pd.DataFrame({'issue' : issues, 'gerund' : rephrased}).to_json(filename, lines=True, orient='records')"
   ]
  },
  {
   "cell_type": "code",
   "execution_count": null,
   "id": "18929f8b-dc9c-4d81-bb5b-795bbf454391",
   "metadata": {},
   "outputs": [],
   "source": []
  }
 ],
 "metadata": {
  "kernelspec": {
   "display_name": "env-valuebank",
   "language": "python",
   "name": "env-valuebank"
  },
  "language_info": {
   "codemirror_mode": {
    "name": "ipython",
    "version": 3
   },
   "file_extension": ".py",
   "mimetype": "text/x-python",
   "name": "python",
   "nbconvert_exporter": "python",
   "pygments_lexer": "ipython3",
   "version": "3.8.18"
  }
 },
 "nbformat": 4,
 "nbformat_minor": 5
}
