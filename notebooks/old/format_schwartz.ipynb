{
 "cells": [
  {
   "cell_type": "code",
   "execution_count": 1,
   "id": "b6462737-a50d-4e77-9b8f-93fb84c69744",
   "metadata": {},
   "outputs": [],
   "source": [
    "from kaleido import KaleidoSys\n",
    "import pandas as pd\n",
    "import os\n",
    "\n",
    "os.chdir('..')"
   ]
  },
  {
   "cell_type": "code",
   "execution_count": 2,
   "id": "e95ce22f-b6a0-4501-9282-20c82d00d517",
   "metadata": {},
   "outputs": [],
   "source": [
    "system = KaleidoSys(model_name='allenai/kaleido-xxl') # sizes: small, base, large, xl, xxl"
   ]
  },
  {
   "cell_type": "code",
   "execution_count": 3,
   "id": "b93e35f9-9ae5-4538-acb1-6ef2f592c050",
   "metadata": {},
   "outputs": [],
   "source": [
    "SCHWARTZ_VALUES = ['Self-direction',\n",
    "'Stimulation',\n",
    "'Hedonism',\n",
    "'Achievement',\n",
    "'Power',\n",
    "'Security',\n",
    "'Conformity',\n",
    "'Tradition',\n",
    "'Benevolence',\n",
    "'Universalism',\n",
    "'Spirituality']"
   ]
  },
  {
   "cell_type": "code",
   "execution_count": 4,
   "id": "7c83dc8f-d810-483c-b11b-0efe1ba977f2",
   "metadata": {},
   "outputs": [],
   "source": [
    "df = pd.read_json('data/wiki_controversial_small.jsonl', lines=True)"
   ]
  },
  {
   "cell_type": "code",
   "execution_count": 5,
   "id": "f2221b00-16f4-4930-88b2-e14268f32668",
   "metadata": {},
   "outputs": [],
   "source": [
    "def get_schwartz_values(action):\n",
    "    return system.get_all_scores([action] * len(SCHWARTZ_VALUES),\n",
    "                                 ['value'] * len(SCHWARTZ_VALUES), SCHWARTZ_VALUES,\n",
    "                                 explain=False, explanation_decoding_params={}).to_dict(orient='records')"
   ]
  },
  {
   "cell_type": "code",
   "execution_count": null,
   "id": "ccdf6af8-2c63-4d1c-b678-7fb0672e4dc0",
   "metadata": {},
   "outputs": [
    {
     "name": "stdout",
     "output_type": "stream",
     "text": [
      "Loading model...\n"
     ]
    },
    {
     "data": {
      "application/vnd.jupyter.widget-view+json": {
       "model_id": "4e512f17dd1d40d6afc06471ff9a7bab",
       "version_major": 2,
       "version_minor": 0
      },
      "text/plain": [
       "config.json:   0%|          | 0.00/2.03k [00:00<?, ?B/s]"
      ]
     },
     "metadata": {},
     "output_type": "display_data"
    },
    {
     "data": {
      "application/vnd.jupyter.widget-view+json": {
       "model_id": "5e2510d09de442329c96b4ab18a53e1a",
       "version_major": 2,
       "version_minor": 0
      },
      "text/plain": [
       "pytorch_model.bin.index.json:   0%|          | 0.00/50.8k [00:00<?, ?B/s]"
      ]
     },
     "metadata": {},
     "output_type": "display_data"
    },
    {
     "data": {
      "application/vnd.jupyter.widget-view+json": {
       "model_id": "b44b0ac5b3374f09b8fb0c7dedf2e4a7",
       "version_major": 2,
       "version_minor": 0
      },
      "text/plain": [
       "Downloading shards:   0%|          | 0/5 [00:00<?, ?it/s]"
      ]
     },
     "metadata": {},
     "output_type": "display_data"
    },
    {
     "data": {
      "application/vnd.jupyter.widget-view+json": {
       "model_id": "728923e30d3c4e6eb82ea77e02e70be7",
       "version_major": 2,
       "version_minor": 0
      },
      "text/plain": [
       "pytorch_model-00001-of-00005.bin:   0%|          | 0.00/44.5G [00:00<?, ?B/s]"
      ]
     },
     "metadata": {},
     "output_type": "display_data"
    },
    {
     "data": {
      "application/vnd.jupyter.widget-view+json": {
       "model_id": "035bbd9de8b44a668cb343a3aa8e4f9e",
       "version_major": 2,
       "version_minor": 0
      },
      "text/plain": [
       "pytorch_model-00002-of-00005.bin:   0%|          | 0.00/44.5G [00:00<?, ?B/s]"
      ]
     },
     "metadata": {},
     "output_type": "display_data"
    },
    {
     "data": {
      "application/vnd.jupyter.widget-view+json": {
       "model_id": "b71f23d8e22c44ce883f56f34f097acb",
       "version_major": 2,
       "version_minor": 0
      },
      "text/plain": [
       "pytorch_model-00003-of-00005.bin:   0%|          | 0.00/44.5G [00:00<?, ?B/s]"
      ]
     },
     "metadata": {},
     "output_type": "display_data"
    },
    {
     "data": {
      "application/vnd.jupyter.widget-view+json": {
       "model_id": "731f4060d14f43789557e615aca91350",
       "version_major": 2,
       "version_minor": 0
      },
      "text/plain": [
       "pytorch_model-00004-of-00005.bin:   0%|          | 0.00/44.5G [00:00<?, ?B/s]"
      ]
     },
     "metadata": {},
     "output_type": "display_data"
    },
    {
     "data": {
      "application/vnd.jupyter.widget-view+json": {
       "model_id": "bb81a82a0b6546f3bf03cfd13861ad50",
       "version_major": 2,
       "version_minor": 0
      },
      "text/plain": [
       "pytorch_model-00005-of-00005.bin:   0%|          | 0.00/44.5G [00:00<?, ?B/s]"
      ]
     },
     "metadata": {},
     "output_type": "display_data"
    }
   ],
   "source": [
    "values = df['original'].apply(get_schwartz_values)"
   ]
  },
  {
   "cell_type": "code",
   "execution_count": 17,
   "id": "7d5561c2-55f3-49c5-851e-c498363f9f7a",
   "metadata": {},
   "outputs": [],
   "source": [
    "def del_ret(x):\n",
    "    for y in x:\n",
    "        del y['action']\n",
    "    return y"
   ]
  },
  {
   "cell_type": "code",
   "execution_count": 18,
   "id": "63e2d52f-f264-4100-83be-420d4c697f48",
   "metadata": {},
   "outputs": [],
   "source": [
    "df['values'] = values.apply(del_ret)"
   ]
  },
  {
   "cell_type": "code",
   "execution_count": 20,
   "id": "754015fa-b312-4af8-bf46-d7eab6555d24",
   "metadata": {},
   "outputs": [],
   "source": [
    "df.to_json('data/wiki_controversial_small_schwartz.jsonl', orient='records', lines=True)"
   ]
  }
 ],
 "metadata": {
  "kernelspec": {
   "display_name": "Python 3 (ipykernel)",
   "language": "python",
   "name": "python3"
  },
  "language_info": {
   "codemirror_mode": {
    "name": "ipython",
    "version": 3
   },
   "file_extension": ".py",
   "mimetype": "text/x-python",
   "name": "python",
   "nbconvert_exporter": "python",
   "pygments_lexer": "ipython3",
   "version": "3.10.9"
  }
 },
 "nbformat": 4,
 "nbformat_minor": 5
}
