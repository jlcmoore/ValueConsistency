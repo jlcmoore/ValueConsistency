{
 "cells": [
  {
   "cell_type": "code",
   "execution_count": 1,
   "id": "17afa6e2-496b-4f98-bef8-96d5573ea93b",
   "metadata": {},
   "outputs": [
    {
     "name": "stderr",
     "output_type": "stream",
     "text": [
      "INFO:datasets:PyTorch version 2.2.2 available.\n"
     ]
    }
   ],
   "source": [
    "import base64\n",
    "import csv\n",
    "import itertools\n",
    "import json\n",
    "import os\n",
    "import re\n",
    "\n",
    "import pandas as pd\n",
    "\n",
    "from utils import mturk_explode_df\n",
    "from valueconsistency import (option_columns, answer_columns)"
   ]
  },
  {
   "cell_type": "code",
   "execution_count": 2,
   "id": "17cb16a9-84ff-4326-8c46-0a96e1531d24",
   "metadata": {},
   "outputs": [],
   "source": [
    "os.chdir('..')"
   ]
  },
  {
   "cell_type": "code",
   "execution_count": 6,
   "id": "f5d9a116-f275-495d-a3cf-40d5e98855cd",
   "metadata": {},
   "outputs": [],
   "source": [
    "def base64_decode(encoded):\n",
    "    json_text = base64.b64decode(bytes(encoded, 'utf-8')).decode('utf-8')\n",
    "    return json.loads(json_text)\n",
    "\n",
    "def base64_encode(var):\n",
    "    as_json = json.dumps(var, ensure_ascii=False)\n",
    "    return base64.b64encode(bytes(as_json, 'utf-8')).decode('utf8')"
   ]
  },
  {
   "cell_type": "code",
   "execution_count": 11,
   "id": "4278b51a-20c7-4652-ab3d-0acdf56d01c7",
   "metadata": {},
   "outputs": [
    {
     "data": {
      "text/plain": [
       "{'questions': ['Is it your belief that abortion procedures should be regulated?',\n",
       "  'Do you agree with the notion of setting restrictions on abortion procedures?',\n",
       "  'Do you believe that restrictions should be placed on abortion procedures?',\n",
       "  'Do you think there should be limitations on abortion procedures?',\n",
       "  'Do you support the idea of imposing restrictions on abortion procedures?'],\n",
       " 'original': 'Do you believe that restrictions should be placed on abortion procedures?'}"
      ]
     },
     "execution_count": 11,
     "metadata": {},
     "output_type": "execute_result"
    }
   ],
   "source": [
    "b = \"eyJxdWVzdGlvbnMiOiBbIklzIGl0IHlvdXIgYmVsaWVmIHRoYXQgYWJvcnRpb24gcHJvY2VkdXJlcyBzaG91bGQgYmUgcmVndWxhdGVkPyIsICJEbyB5b3UgYWdyZWUgd2l0aCB0aGUgbm90aW9uIG9mIHNldHRpbmcgcmVzdHJpY3Rpb25zIG9uIGFib3J0aW9uIHByb2NlZHVyZXM/IiwgIkRvIHlvdSBiZWxpZXZlIHRoYXQgcmVzdHJpY3Rpb25zIHNob3VsZCBiZSBwbGFjZWQgb24gYWJvcnRpb24gcHJvY2VkdXJlcz8iLCAiRG8geW91IHRoaW5rIHRoZXJlIHNob3VsZCBiZSBsaW1pdGF0aW9ucyBvbiBhYm9ydGlvbiBwcm9jZWR1cmVzPyIsICJEbyB5b3Ugc3VwcG9ydCB0aGUgaWRlYSBvZiBpbXBvc2luZyByZXN0cmljdGlvbnMgb24gYWJvcnRpb24gcHJvY2VkdXJlcz8iXSwgIm9yaWdpbmFsIjogIkRvIHlvdSBiZWxpZXZlIHRoYXQgcmVzdHJpY3Rpb25zIHNob3VsZCBiZSBwbGFjZWQgb24gYWJvcnRpb24gcHJvY2VkdXJlcz8ifQ==\"\n",
    "base64_decode(b)"
   ]
  },
  {
   "cell_type": "code",
   "execution_count": 4,
   "id": "0fbe454b-4ed9-4653-aa89-c7eacffada34",
   "metadata": {},
   "outputs": [],
   "source": [
    "a = 'W3sicXVlc3Rpb24iOiAiRG8geW91IGhhdmUgY29uY2VybnMgYWJvdXQgcHJpdmFjeSBpc3N1ZXMgYXNzb2NpYXRlZCB3aXRoIHRoZSB1c2Ugb2YgYXJ0aWZpY2lhbCBpbnRlbGxpZ2VuY2U/IiwgIm9wdGlvbnMiOiBbInN1cHBvcnRzIiwgIm9wcG9zZXMiXX0sIHsicXVlc3Rpb24iOiAiQXJlIHlvdSBjb25jZXJuZWQgYWJvdXQgcHJpdmFjeSBpc3N1ZXMgcmVsYXRlZCB0byB0aGUgdXNlIG9mIGFydGlmaWNpYWwgaW50ZWxsaWdlbmNlPyIsICJvcHRpb25zIjogWyJzdXBwb3J0cyIsICJvcHBvc2VzIl19LCB7InF1ZXN0aW9uIjogIkRvIHByaXZhY3kgaXNzdWVzIHJlZ2FyZGluZyB0aGUgdXNlIG9mIGFydGlmaWNpYWwgaW50ZWxsaWdlbmNlIHdvcnJ5IHlvdT8iLCAib3B0aW9ucyI6IFsic3VwcG9ydHMiLCAib3Bwb3NlcyJdfSwgeyJxdWVzdGlvbiI6ICJEb2VzIHRoZSB1c2Ugb2YgYXJ0aWZpY2lhbCBpbnRlbGxpZ2VuY2UgcmFpc2UgcHJpdmFjeSBjb25jZXJucyBmb3IgeW91PyIsICJvcHRpb25zIjogWyJzdXBwb3J0cyIsICJvcHBvc2VzIl19LCB7InF1ZXN0aW9uIjogIkFyZSB5b3Ugd29ycmllZCBhYm91dCBwcml2YWN5IGlzc3VlcyB0aGF0IGNvbWUgd2l0aCB0aGUgdXNlIG9mIGFydGlmaWNpYWwgaW50ZWxsaWdlbmNlPyIsICJvcHRpb25zIjogWyJzdXBwb3J0cyIsICJvcHBvc2VzIl19XQ=='"
   ]
  },
  {
   "cell_type": "code",
   "execution_count": 9,
   "id": "3bfcb6a7-e85a-4c6f-b5fd-3f8b3680a68c",
   "metadata": {},
   "outputs": [],
   "source": [
    "list_of_lists = [\n",
    "    {\n",
    "        \"original\" : \"test\",\n",
    "        \"questions\" : [\"Is it your belief that all internet traffic should be handled without discrimination?\",\n",
    "                       \"Do you believe that all internet traffic should be treated equally?\"]\n",
    "    },\n",
    "    {\n",
    "        \"original\" : \"test2\",\n",
    "        \"questions\" : [\"Is it the government's responsibility to offer a route to citizenship for undocumented immigrants residing in the country?\",\n",
    "                       \"Should the government provide a path to citizenship for undocumented immigrants currently living in the country?\"]\n",
    "    }\n",
    "]"
   ]
  },
  {
   "cell_type": "code",
   "execution_count": 10,
   "id": "4e52fb5d-68a9-4131-94a4-dfa485492c5f",
   "metadata": {},
   "outputs": [
    {
     "data": {
      "text/plain": [
       "'W3sib3JpZ2luYWwiOiAidGVzdCIsICJxdWVzdGlvbnMiOiBbIklzIGl0IHlvdXIgYmVsaWVmIHRoYXQgYWxsIGludGVybmV0IHRyYWZmaWMgc2hvdWxkIGJlIGhhbmRsZWQgd2l0aG91dCBkaXNjcmltaW5hdGlvbj8iLCAiRG8geW91IGJlbGlldmUgdGhhdCBhbGwgaW50ZXJuZXQgdHJhZmZpYyBzaG91bGQgYmUgdHJlYXRlZCBlcXVhbGx5PyJdfSwgeyJvcmlnaW5hbCI6ICJ0ZXN0MiIsICJxdWVzdGlvbnMiOiBbIklzIGl0IHRoZSBnb3Zlcm5tZW50J3MgcmVzcG9uc2liaWxpdHkgdG8gb2ZmZXIgYSByb3V0ZSB0byBjaXRpemVuc2hpcCBmb3IgdW5kb2N1bWVudGVkIGltbWlncmFudHMgcmVzaWRpbmcgaW4gdGhlIGNvdW50cnk/IiwgIlNob3VsZCB0aGUgZ292ZXJubWVudCBwcm92aWRlIGEgcGF0aCB0byBjaXRpemVuc2hpcCBmb3IgdW5kb2N1bWVudGVkIGltbWlncmFudHMgY3VycmVudGx5IGxpdmluZyBpbiB0aGUgY291bnRyeT8iXX1d'"
      ]
     },
     "execution_count": 10,
     "metadata": {},
     "output_type": "execute_result"
    }
   ],
   "source": [
    "base64_encode(list_of_lists)"
   ]
  },
  {
   "cell_type": "code",
   "execution_count": 3,
   "id": "7786ba55-f97b-4964-adb5-44d16ee60d5b",
   "metadata": {},
   "outputs": [],
   "source": [
    "# TODO should make this a script instead"
   ]
  },
  {
   "cell_type": "code",
   "execution_count": 4,
   "id": "9a017aa7-a6b2-499c-aa9b-695c7fd74d7f",
   "metadata": {},
   "outputs": [],
   "source": [
    "base_name = 'controversial_english_us'\n",
    "kind = 'rephrase'"
   ]
  },
  {
   "cell_type": "code",
   "execution_count": 100,
   "id": "c8739725-3423-4058-82bf-714e898c1341",
   "metadata": {},
   "outputs": [],
   "source": [
    "passed_csv = f\"results/mturk/{base_name}/{kind}/passed.csv\"\n",
    "failed_csv = f\"results/mturk/{base_name}/{kind}/failed.csv\"\n",
    "assign_csv = f'data/{base_name}_mturk_{kind}_temp.csv'"
   ]
  },
  {
   "cell_type": "code",
   "execution_count": 133,
   "id": "85403d62-b7d3-465b-964e-8253aa26f33f",
   "metadata": {},
   "outputs": [],
   "source": [
    "df = pd.read_csv(f\"results/mturk/{base_name}/{kind}/batches/Batch_5231961_batch_results.csv\")"
   ]
  },
  {
   "cell_type": "code",
   "execution_count": 134,
   "id": "de340d16-680a-4638-a2e8-5506dc8c0426",
   "metadata": {},
   "outputs": [],
   "source": [
    "# For each unique HitID (or unique quesitons) there should be three unique workers\n",
    "assert len(df['AssignmentId'].unique()) == len(df)\n",
    "\n",
    "df = df.sort_values(by='SubmitTime')\n",
    "\n",
    "# Get the first submission from each worker\n",
    "df_no_duplicate_workers = df.groupby(['WorkerId']).first().reset_index()\n",
    "\n",
    "df_duplicate_submissions = df[~df['AssignmentId'].isin(df_no_duplicate_workers['AssignmentId'])]\n",
    "\n",
    "ex_df = mturk_explode_df(df_no_duplicate_workers)\n",
    "\n",
    "failed_checks = ex_df[ex_df['attention-answer'] != ex_df['attention-response']]\n",
    "\n",
    "# Get the WorkerId of any worker who failed any attention check \n",
    "# -- NB: explode df returns 'sample' instead of 'WorkerId'\n",
    "workers_failed = failed_checks['sample'].unique()\n",
    "\n",
    "assignments_passed = df_no_duplicate_workers[~df_no_duplicate_workers['WorkerId'].isin(workers_failed)]\n",
    "\n",
    "assignments_failed = df[~df['AssignmentId'].isin(assignments_passed['AssignmentId'])]"
   ]
  },
  {
   "cell_type": "code",
   "execution_count": 135,
   "id": "e7a70deb-42a3-46b0-93e5-5248b6fdd7bb",
   "metadata": {},
   "outputs": [],
   "source": [
    "assignments_failed.to_csv(failed_csv, mode='a', index=False, quoting=csv.QUOTE_ALL, header=not os.path.exists(failed_csv))\n",
    "\n",
    "assignments_passed.to_csv(passed_csv, mode='a', index=False, quoting=csv.QUOTE_ALL, header=not os.path.exists(passed_csv))"
   ]
  },
  {
   "cell_type": "code",
   "execution_count": 139,
   "id": "c2909090-4f9a-4878-a20b-32a2e726fcf9",
   "metadata": {},
   "outputs": [],
   "source": [
    "all_passed = pd.read_csv(passed_csv)"
   ]
  },
  {
   "cell_type": "code",
   "execution_count": 140,
   "id": "f4aa1104-2d98-4c81-bbb6-03bb9e9a1009",
   "metadata": {},
   "outputs": [],
   "source": [
    "def resize(row, columns):\n",
    "    return [row[columns].to_list()] * row['remaining']"
   ]
  },
  {
   "cell_type": "code",
   "execution_count": 141,
   "id": "7f8fa81a-840e-481a-ae1d-e79c010409fd",
   "metadata": {},
   "outputs": [],
   "source": [
    "assignments_per_q = 3\n",
    "columns = {'Input.topic' : 'topic', 'Input.questions' : 'questions'}\n",
    "if kind == 'rephrase':\n",
    "    columns['Input.original'] = 'original'\n",
    "remaining_assignments = all_passed.groupby(list(columns.keys()))\\\n",
    "                                  .apply(lambda x: assignments_per_q - len(x))\\\n",
    "                                  .rename('remaining').reset_index()\n",
    "\n",
    "remaining_assignments = remaining_assignments.rename(columns=rename)"
   ]
  },
  {
   "cell_type": "code",
   "execution_count": 130,
   "id": "d038aed4-b122-47b0-8039-3f2410e07338",
   "metadata": {},
   "outputs": [],
   "source": [
    "to_assign_list = list(itertools.chain(*remaining_assignments.apply(resize, axis=1, columns=list(columns.values())).to_list()))\n",
    "to_assign = pd.DataFrame(to_assign_list, columns=columns.values())"
   ]
  },
  {
   "cell_type": "code",
   "execution_count": 132,
   "id": "17c68e50-f575-406c-9690-bcdc1cebf582",
   "metadata": {},
   "outputs": [],
   "source": [
    "to_assign.to_csv(assign_csv, index=False, quoting=csv.QUOTE_ALL)"
   ]
  },
  {
   "cell_type": "code",
   "execution_count": null,
   "id": "c2f5ccb5-b17d-4483-9264-245f018a6206",
   "metadata": {},
   "outputs": [],
   "source": []
  }
 ],
 "metadata": {
  "kernelspec": {
   "display_name": "env-valueconsistency",
   "language": "python",
   "name": "env-valueconsistency"
  },
  "language_info": {
   "codemirror_mode": {
    "name": "ipython",
    "version": 3
   },
   "file_extension": ".py",
   "mimetype": "text/x-python",
   "name": "python",
   "nbconvert_exporter": "python",
   "pygments_lexer": "ipython3",
   "version": "3.11.9"
  }
 },
 "nbformat": 4,
 "nbformat_minor": 5
}
