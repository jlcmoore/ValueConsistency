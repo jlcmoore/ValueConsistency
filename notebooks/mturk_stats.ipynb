{
 "cells": [
  {
   "cell_type": "code",
   "execution_count": 37,
   "id": "c5ded2ca-5895-454a-9426-8c3abb4d2bbd",
   "metadata": {},
   "outputs": [
    {
     "name": "stderr",
     "output_type": "stream",
     "text": [
      "INFO:datasets:PyTorch version 2.1.2 available.\n"
     ]
    }
   ],
   "source": [
    "import os\n",
    "\n",
    "import pandas as pd\n",
    "from utils import passed_attention_checks"
   ]
  },
  {
   "cell_type": "code",
   "execution_count": 2,
   "id": "39ada6b6-eaef-4a00-90b3-d9d039c7bb2c",
   "metadata": {},
   "outputs": [],
   "source": [
    "os.chdir('..')"
   ]
  },
  {
   "cell_type": "code",
   "execution_count": 44,
   "id": "986f97dd-c53c-4f5d-9833-afa5c2d4bb23",
   "metadata": {},
   "outputs": [],
   "source": [
    "base_name = 'controversial_english_us'\n",
    "kind = 'topic'\n",
    "\n",
    "passed_t = pd.read_csv(f\"results/mturk/{base_name}/{kind}/passed.csv\")\n",
    "failed_t = pd.read_csv(f\"results/mturk/{base_name}/{kind}/failed.csv\")\n",
    "\n",
    "base_name = 'controversial_english_us'\n",
    "kind = 'rephrase'\n",
    "\n",
    "passed_r = pd.read_csv(f\"results/mturk/{base_name}/{kind}/passed.csv\")\n",
    "failed_r = pd.read_csv(f\"results/mturk/{base_name}/{kind}/failed.csv\")\n",
    "\n",
    "passed = pd.concat([passed_t, passed_r])\n",
    "failed = pd.concat([failed_t, failed_r])"
   ]
  },
  {
   "cell_type": "code",
   "execution_count": 51,
   "id": "9b869577-5b62-4a93-9b0d-a25f46ccfba0",
   "metadata": {},
   "outputs": [
    {
     "data": {
      "text/plain": [
       "84"
      ]
     },
     "execution_count": 51,
     "metadata": {},
     "output_type": "execute_result"
    }
   ],
   "source": [
    "len(passed_t)"
   ]
  },
  {
   "cell_type": "code",
   "execution_count": 52,
   "id": "b2002ad3-09f1-47cb-96a8-88453885a652",
   "metadata": {},
   "outputs": [
    {
     "data": {
      "text/plain": [
       "81"
      ]
     },
     "execution_count": 52,
     "metadata": {},
     "output_type": "execute_result"
    }
   ],
   "source": [
    "len(passed_r)"
   ]
  },
  {
   "cell_type": "code",
   "execution_count": 46,
   "id": "af9d5be4-d612-4053-85dd-d70a580c1ef7",
   "metadata": {},
   "outputs": [],
   "source": [
    "pay = 1\n",
    "med_time = passed['Answer.tm'].median() / 60\n",
    "avg_time = passed['Answer.tm'].mean() / 60\n",
    "avg_wage = 60 / avg_time * pay\n",
    "med_wage = 60 / med_time * pay"
   ]
  },
  {
   "cell_type": "code",
   "execution_count": 47,
   "id": "8622f945-0ac5-4f8d-a2c4-5be460f2ae18",
   "metadata": {},
   "outputs": [
    {
     "name": "stdout",
     "output_type": "stream",
     "text": [
      "Our study took participants a median time of 2.5 minutes (4.9 avg.) and we payed them 1 USD each, yielding a median hourly wage of 24.11 (12.25 avg.) USD\n"
     ]
    }
   ],
   "source": [
    "print(f\"\"\"Our study took participants a median time of {med_time:.1f} minutes ({avg_time:.1f} avg.) \\\n",
    "and we payed them {pay} USD each, yielding a median hourly wage of {med_wage:.2f} ({avg_wage:.2f} avg.) USD\"\"\")"
   ]
  },
  {
   "cell_type": "code",
   "execution_count": 48,
   "id": "74286656-7fc1-496c-b08b-8a31112855ce",
   "metadata": {},
   "outputs": [],
   "source": [
    "rejection = len(failed) / (len(passed) + len(failed))"
   ]
  },
  {
   "cell_type": "code",
   "execution_count": 49,
   "id": "a528fb05-ea50-4d89-af5f-38b69a01932e",
   "metadata": {},
   "outputs": [
    {
     "data": {
      "text/plain": [
       "0.175"
      ]
     },
     "execution_count": 49,
     "metadata": {},
     "output_type": "execute_result"
    }
   ],
   "source": [
    "rejection"
   ]
  },
  {
   "cell_type": "code",
   "execution_count": 50,
   "id": "edf1cb2f-7605-4385-877e-f49a67d38e4f",
   "metadata": {},
   "outputs": [
    {
     "name": "stdout",
     "output_type": "stream",
     "text": [
      "84.62% passed attention checks (165 / 195) while 5 workers submitted multiple HITs (which we ignored).\n"
     ]
    }
   ],
   "source": [
    "total = pd.concat([passed, failed])\n",
    "unique_workers = total.groupby(['WorkerId']).first()\n",
    "n_unique_workers = len(unique_workers)\n",
    "n_passed = len(passed)\n",
    "n_dupes = len(total) - n_unique_workers\n",
    "print(f\"{n_passed / n_unique_workers:.2%} passed attention checks ({n_passed} / {n_unique_workers}) \\\n",
    "while {n_dupes} workers submitted multiple HITs (which we ignored).\")\n"
   ]
  },
  {
   "cell_type": "code",
   "execution_count": 43,
   "id": "2f1c4881-5fe8-4b64-8a6a-bf4c04eff585",
   "metadata": {},
   "outputs": [
    {
     "data": {
      "text/plain": [
       "84"
      ]
     },
     "execution_count": 43,
     "metadata": {},
     "output_type": "execute_result"
    }
   ],
   "source": [
    "len(passed)"
   ]
  },
  {
   "cell_type": "code",
   "execution_count": null,
   "id": "ffaabc81-d4ca-43df-83ca-7ebcc2d6b379",
   "metadata": {},
   "outputs": [],
   "source": []
  }
 ],
 "metadata": {
  "kernelspec": {
   "display_name": "env-valuebank",
   "language": "python",
   "name": "env-valuebank"
  },
  "language_info": {
   "codemirror_mode": {
    "name": "ipython",
    "version": 3
   },
   "file_extension": ".py",
   "mimetype": "text/x-python",
   "name": "python",
   "nbconvert_exporter": "python",
   "pygments_lexer": "ipython3",
   "version": "3.8.18"
  }
 },
 "nbformat": 4,
 "nbformat_minor": 5
}
