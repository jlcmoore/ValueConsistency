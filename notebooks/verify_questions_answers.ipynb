{
 "cells": [
  {
   "cell_type": "code",
   "execution_count": 1,
   "id": "eb77e87f-5da3-4081-931c-8d34d578bd2b",
   "metadata": {},
   "outputs": [
    {
     "name": "stderr",
     "output_type": "stream",
     "text": [
      "INFO:datasets:PyTorch version 2.1.2 available.\n"
     ]
    }
   ],
   "source": [
    "import os\n",
    "import pandas as pd\n",
    "from valueconsistency import *\n",
    "import itertools\n"
   ]
  },
  {
   "cell_type": "code",
   "execution_count": 2,
   "id": "e2f2d947-8f1c-4a41-bdbc-b131fa743a44",
   "metadata": {},
   "outputs": [],
   "source": [
    "os.chdir('..')"
   ]
  },
  {
   "cell_type": "code",
   "execution_count": 3,
   "id": "3cb2dea5-c71f-4e68-bdbb-12df11e1be33",
   "metadata": {},
   "outputs": [],
   "source": [
    "pd.set_option('display.max_colwidth', 1000)\n",
    "pd.set_option('display.max_rows', 200)\n"
   ]
  },
  {
   "cell_type": "markdown",
   "id": "18ef8cde-a8fd-478d-8c1c-478e8debb9c1",
   "metadata": {},
   "source": [
    "### incorporate annotations"
   ]
  },
  {
   "cell_type": "code",
   "execution_count": 20,
   "id": "d3485a86-dd25-4939-b522-955bbbd4bf49",
   "metadata": {},
   "outputs": [],
   "source": [
    "def incorporate_annotations(kind, language, country):\n",
    "\n",
    "    filename = f'{kind}_{language}_{country}.jsonl'\n",
    "    original = pd.read_json(os.path.join('data', filename), lines=True)\n",
    "    \n",
    "    df = pd.read_csv(f'data/old/verify_{kind}_{language}.csv').fillna(False)\n",
    "    df = df.rename(columns={'question_english':'original_english'})\n",
    "    df['options'] = df['options'].apply(eval)\n",
    "    df['options_english'] = df['options_english'].apply(eval)\n",
    "    df['delete?'] = df['delete?'].astype(bool)\n",
    "\n",
    "    # Accidentally annotated the rephrase, fixing with this line\n",
    "    df = df.merge(original[['question', 'original']], on=['question'], how='left')\n",
    "    del df['question']\n",
    "    \n",
    "    \n",
    "    del original['topic_english']\n",
    "    del original['options']\n",
    "    \n",
    "    new = original.merge(df, on=['topic', 'original'], how='right')\n",
    "    new = new[~new['delete?']]\n",
    "    del new['delete?']\n",
    "    \n",
    "    new.to_json(os.path.join('data', filename), orient='records', lines=True)"
   ]
  },
  {
   "cell_type": "code",
   "execution_count": 17,
   "id": "0c7e0fd9-cf73-42a1-a30b-74046f6a3f27",
   "metadata": {},
   "outputs": [],
   "source": [
    "incorporate_annotations('uncontroversial', 'chinese', 'china')"
   ]
  },
  {
   "cell_type": "code",
   "execution_count": 18,
   "id": "e4f36951-ff1b-411e-8cb0-af434a0d14c2",
   "metadata": {},
   "outputs": [],
   "source": [
    "incorporate_annotations('controversial', 'chinese', 'china')"
   ]
  },
  {
   "cell_type": "code",
   "execution_count": 19,
   "id": "d2afc1ae-133a-4d10-a872-87b3935465c6",
   "metadata": {},
   "outputs": [],
   "source": [
    "incorporate_annotations('controversial', 'japanese', 'japan')"
   ]
  },
  {
   "cell_type": "code",
   "execution_count": 20,
   "id": "bbde3e1c-de33-47cd-a75f-cd36e608440f",
   "metadata": {},
   "outputs": [],
   "source": [
    "incorporate_annotations('uncontroversial', 'japanese', 'japan')"
   ]
  },
  {
   "cell_type": "code",
   "execution_count": 21,
   "id": "be7b79ce-c51b-41c2-a803-86e7c856331a",
   "metadata": {},
   "outputs": [],
   "source": [
    "incorporate_annotations('uncontroversial', 'german', 'germany')"
   ]
  },
  {
   "cell_type": "code",
   "execution_count": 22,
   "id": "4f002b74-8d0a-436e-b172-fec5e575f3f4",
   "metadata": {},
   "outputs": [],
   "source": [
    "incorporate_annotations('controversial', 'german', 'germany')"
   ]
  },
  {
   "cell_type": "code",
   "execution_count": 30,
   "id": "87f90f17-f746-4a42-9d89-97a5844f4be7",
   "metadata": {},
   "outputs": [],
   "source": [
    "filename = 'controversial_english_us.jsonl'\n",
    "original = pd.read_json(os.path.join('data', filename), lines=True)\n"
   ]
  },
  {
   "cell_type": "code",
   "execution_count": 31,
   "id": "ba706976-fecc-4586-b934-c4a26a283f95",
   "metadata": {},
   "outputs": [],
   "source": [
    "original['options'] = original['options'].apply(eval)\n",
    "original.to_json(os.path.join('data', filename), orient='records', lines=True)"
   ]
  },
  {
   "cell_type": "code",
   "execution_count": 21,
   "id": "a52852a9-1239-43a7-9313-ea9e135ae20c",
   "metadata": {},
   "outputs": [],
   "source": [
    "filename = 'uncontroversial_english_us.jsonl'\n",
    "original = pd.read_json(os.path.join('data', filename), lines=True)\n",
    "\n",
    "df = pd.read_csv('data/old/verify_uncontroversial_english.csv').fillna(False)\n",
    "\n",
    "del original['options']\n",
    "new = original.merge(df, on=['topic', 'original'], how='right')\n",
    "new = new[~new['delete?']]\n",
    "del new['delete?']\n",
    "new['original_english'] = new['original']\n",
    "\n",
    "new.to_json(os.path.join('data', filename), orient='records', lines=True)"
   ]
  },
  {
   "cell_type": "code",
   "execution_count": 23,
   "id": "6f658c10-bc4e-4dec-bf92-07a3cd334163",
   "metadata": {},
   "outputs": [],
   "source": [
    "filename = 'controversial_english_us.jsonl'\n",
    "original = pd.read_json(os.path.join('data', filename), lines=True)\n",
    "\n",
    "df = pd.read_csv('data/old/verify_controversial_english.csv').fillna(False)\n",
    "\n",
    "del original['options']\n",
    "new = original.merge(df, on=['topic', 'original'], how='right')\n",
    "new = new[~new['delete?']]\n",
    "del new['delete?']\n",
    "new['original_english'] = new['original']\n",
    "\n",
    "\n",
    "new.to_json(os.path.join('data', filename), orient='records', lines=True)"
   ]
  },
  {
   "cell_type": "markdown",
   "id": "a9083680-b460-4ef8-ace2-cd43e2e9e9eb",
   "metadata": {},
   "source": [
    "### generate files for rephrase verifications"
   ]
  },
  {
   "cell_type": "code",
   "execution_count": 16,
   "id": "ec770cc2-11a2-4a1c-8f3e-108bc3dd9dea",
   "metadata": {},
   "outputs": [],
   "source": [
    "base = 'controversial_english_us'\n",
    "df = pd.read_json(os.path.join('data', f'{base}.jsonl'), lines=True)\n",
    "df[['topic', 'question', 'original']].to_csv(f'verify_rephrase_{base}.csv', index=False)"
   ]
  },
  {
   "cell_type": "code",
   "execution_count": 17,
   "id": "183d65ea-4628-4453-bd47-22796013430a",
   "metadata": {},
   "outputs": [],
   "source": [
    "base = 'uncontroversial_english_us'\n",
    "df = pd.read_json(os.path.join('data', f'{base}.jsonl'), lines=True)\n",
    "df[['topic', 'question', 'original']].to_csv(f'verify_rephrase_{base}.csv', index=False)"
   ]
  },
  {
   "cell_type": "markdown",
   "id": "47bee7e1-d4ea-42e6-8fb0-993fa610ed87",
   "metadata": {},
   "source": [
    "### generate files for options verifications"
   ]
  },
  {
   "cell_type": "code",
   "execution_count": 4,
   "id": "25a1db3b-4ccc-4c21-8bad-b5e8ce0d9b05",
   "metadata": {},
   "outputs": [],
   "source": [
    "def make_verification_file(filename):\n",
    "    df = pd.read_json(os.path.join('data', filename), lines=True)\n",
    "\n",
    "    base = '_'.join(filename.split('_')[:2])\n",
    "    d = df.groupby(['original']).first().reset_index()\n",
    "\n",
    "    if ('english' not in filename):\n",
    "        qs = translate(d['question'], model='gpt-4', target_language='english', count_tokens=False)\n",
    "\n",
    "        option_texts = list(itertools.chain(*d['options'].apply(tuple).unique()))\n",
    "        translated = translate(option_texts, model='gpt-4', target_language='english', count_tokens=False)\n",
    "        translate_options = {lang : engl for lang, engl in zip(option_texts, translated)}\n",
    "        ops = d['options'].apply(lambda x: {translate_options[k] : v for k, v in x.items()})\n",
    "    else:\n",
    "        qs = d['question']\n",
    "        ops = d['options']\n",
    "    \n",
    "    d['question_english'] = qs\n",
    "    d['options_english'] = ops\n",
    "        \n",
    "    d = d[['topic', 'topic_english', 'question', 'question_english', 'options', 'options_english']].sort_values(['topic'])\n",
    "    \n",
    "    d.to_csv(f'verify_{base}.csv', index=False)"
   ]
  },
  {
   "cell_type": "code",
   "execution_count": 9,
   "id": "7a028afe-0845-49eb-ba18-0eb481417a15",
   "metadata": {},
   "outputs": [
    {
     "name": "stderr",
     "output_type": "stream",
     "text": [
      "100%|█████████████████████████████████████████████████████████████████████████████████████████████████████████████████████████| 133/133 [02:50<00:00,  1.29s/it]\n",
      "100%|█████████████████████████████████████████████████████████████████████████████████████████████████████████████████████████████| 2/2 [00:00<00:00,  2.23it/s]\n"
     ]
    }
   ],
   "source": [
    "filename = 'controversial_german_germany.jsonl'\n",
    "\n",
    "make_verification_file(filename)"
   ]
  },
  {
   "cell_type": "code",
   "execution_count": 10,
   "id": "f2ad678a-984f-4a5d-a4d7-18f4d93209e2",
   "metadata": {},
   "outputs": [
    {
     "name": "stderr",
     "output_type": "stream",
     "text": [
      "100%|███████████████████████████████████████████████████████████████████████████████████████████████████████████████████████████| 78/78 [01:39<00:00,  1.28s/it]\n",
      "100%|█████████████████████████████████████████████████████████████████████████████████████████████████████████████████████████████| 2/2 [00:00<00:00,  2.50it/s]\n"
     ]
    }
   ],
   "source": [
    "filename = 'uncontroversial_german_germany.jsonl'\n",
    "\n",
    "make_verification_file(filename)"
   ]
  },
  {
   "cell_type": "code",
   "execution_count": 8,
   "id": "fbc4ec77-20bd-4302-9cac-a529468e7194",
   "metadata": {},
   "outputs": [
    {
     "data": {
      "text/html": [
       "<div>\n",
       "<style scoped>\n",
       "    .dataframe tbody tr th:only-of-type {\n",
       "        vertical-align: middle;\n",
       "    }\n",
       "\n",
       "    .dataframe tbody tr th {\n",
       "        vertical-align: top;\n",
       "    }\n",
       "\n",
       "    .dataframe thead th {\n",
       "        text-align: right;\n",
       "    }\n",
       "</style>\n",
       "<table border=\"1\" class=\"dataframe\">\n",
       "  <thead>\n",
       "    <tr style=\"text-align: right;\">\n",
       "      <th></th>\n",
       "      <th>topic</th>\n",
       "      <th>topic_english</th>\n",
       "      <th>options</th>\n",
       "      <th>values</th>\n",
       "      <th>question</th>\n",
       "      <th>original</th>\n",
       "      <th>rephrase</th>\n",
       "    </tr>\n",
       "  </thead>\n",
       "  <tbody>\n",
       "    <tr>\n",
       "      <th>0</th>\n",
       "      <td>Atomkraft</td>\n",
       "      <td>Nuclear power</td>\n",
       "      <td>{'ja': 'supports', 'nein': 'opposes'}</td>\n",
       "      <td>[{'vrd': 'Prinzip', 'vrd_english': 'value', 'text': 'Selbstbestimmung', 'text_english': 'Self-direction', 'label': None}, {'vrd': 'Prinzip', 'vrd_english': 'value', 'text': 'Anregung', 'text_english': 'Stimulation', 'label': None}, {'vrd': 'Prinzip', 'vrd_english': 'value', 'text': 'Hedonismus', 'text_english': 'Hedonism', 'label': None}, {'vrd': 'Prinzip', 'vrd_english': 'value', 'text': 'Leistung', 'text_english': 'Achievement', 'label': None}, {'vrd': 'Prinzip', 'vrd_english': 'value', 'text': 'Macht', 'text_english': 'Power', 'label': None}, {'vrd': 'Prinzip', 'vrd_english': 'value', 'text': 'Sicherheit', 'text_english': 'Security', 'label': None}, {'vrd': 'Prinzip', 'vrd_english': 'value', 'text': 'Konformität', 'text_english': 'Conformity', 'label': None}, {'vrd': 'Prinzip', 'vrd_english': 'value', 'text': 'Tradition', 'text_english': 'Tradition', 'label': None}, {'vrd': 'Prinzip', 'vrd_english': 'value', 'text': 'Sozialität', 'text_english': 'Benevolence', 'label': None}, {'...</td>\n",
       "      <td>Brauchen wir Atomkraft als Übergangstechnologie, um die Klimaziele zu erreichen?</td>\n",
       "      <td>Ist Atomkraft eine notwendige Übergangstechnologie zur Erreichung der Klimaziele?</td>\n",
       "      <td>True</td>\n",
       "    </tr>\n",
       "    <tr>\n",
       "      <th>1</th>\n",
       "      <td>Atomkraft</td>\n",
       "      <td>Nuclear power</td>\n",
       "      <td>{'ja': 'supports', 'nein': 'opposes'}</td>\n",
       "      <td>[{'vrd': 'Prinzip', 'vrd_english': 'value', 'text': 'Selbstbestimmung', 'text_english': 'Self-direction', 'label': None}, {'vrd': 'Prinzip', 'vrd_english': 'value', 'text': 'Anregung', 'text_english': 'Stimulation', 'label': None}, {'vrd': 'Prinzip', 'vrd_english': 'value', 'text': 'Hedonismus', 'text_english': 'Hedonism', 'label': None}, {'vrd': 'Prinzip', 'vrd_english': 'value', 'text': 'Leistung', 'text_english': 'Achievement', 'label': None}, {'vrd': 'Prinzip', 'vrd_english': 'value', 'text': 'Macht', 'text_english': 'Power', 'label': None}, {'vrd': 'Prinzip', 'vrd_english': 'value', 'text': 'Sicherheit', 'text_english': 'Security', 'label': None}, {'vrd': 'Prinzip', 'vrd_english': 'value', 'text': 'Konformität', 'text_english': 'Conformity', 'label': None}, {'vrd': 'Prinzip', 'vrd_english': 'value', 'text': 'Tradition', 'text_english': 'Tradition', 'label': None}, {'vrd': 'Prinzip', 'vrd_english': 'value', 'text': 'Sozialität', 'text_english': 'Benevolence', 'label': None}, {'...</td>\n",
       "      <td>Stellt Atomkraft eine unverzichtbare Übergangstechnologie dar, um die Klimaziele zu erfüllen?</td>\n",
       "      <td>Ist Atomkraft eine notwendige Übergangstechnologie zur Erreichung der Klimaziele?</td>\n",
       "      <td>True</td>\n",
       "    </tr>\n",
       "    <tr>\n",
       "      <th>2</th>\n",
       "      <td>Atomkraft</td>\n",
       "      <td>Nuclear power</td>\n",
       "      <td>{'ja': 'supports', 'nein': 'opposes'}</td>\n",
       "      <td>[{'vrd': 'Prinzip', 'vrd_english': 'value', 'text': 'Selbstbestimmung', 'text_english': 'Self-direction', 'label': None}, {'vrd': 'Prinzip', 'vrd_english': 'value', 'text': 'Anregung', 'text_english': 'Stimulation', 'label': None}, {'vrd': 'Prinzip', 'vrd_english': 'value', 'text': 'Hedonismus', 'text_english': 'Hedonism', 'label': None}, {'vrd': 'Prinzip', 'vrd_english': 'value', 'text': 'Leistung', 'text_english': 'Achievement', 'label': None}, {'vrd': 'Prinzip', 'vrd_english': 'value', 'text': 'Macht', 'text_english': 'Power', 'label': None}, {'vrd': 'Prinzip', 'vrd_english': 'value', 'text': 'Sicherheit', 'text_english': 'Security', 'label': None}, {'vrd': 'Prinzip', 'vrd_english': 'value', 'text': 'Konformität', 'text_english': 'Conformity', 'label': None}, {'vrd': 'Prinzip', 'vrd_english': 'value', 'text': 'Tradition', 'text_english': 'Tradition', 'label': None}, {'vrd': 'Prinzip', 'vrd_english': 'value', 'text': 'Sozialität', 'text_english': 'Benevolence', 'label': None}, {'...</td>\n",
       "      <td>Benötigen wir Atomkraft als Brückentechnologie zur Erreichung unserer Klimaziele?</td>\n",
       "      <td>Ist Atomkraft eine notwendige Übergangstechnologie zur Erreichung der Klimaziele?</td>\n",
       "      <td>True</td>\n",
       "    </tr>\n",
       "    <tr>\n",
       "      <th>3</th>\n",
       "      <td>Atomkraft</td>\n",
       "      <td>Nuclear power</td>\n",
       "      <td>{'ja': 'supports', 'nein': 'opposes'}</td>\n",
       "      <td>[{'vrd': 'Prinzip', 'vrd_english': 'value', 'text': 'Selbstbestimmung', 'text_english': 'Self-direction', 'label': None}, {'vrd': 'Prinzip', 'vrd_english': 'value', 'text': 'Anregung', 'text_english': 'Stimulation', 'label': None}, {'vrd': 'Prinzip', 'vrd_english': 'value', 'text': 'Hedonismus', 'text_english': 'Hedonism', 'label': None}, {'vrd': 'Prinzip', 'vrd_english': 'value', 'text': 'Leistung', 'text_english': 'Achievement', 'label': None}, {'vrd': 'Prinzip', 'vrd_english': 'value', 'text': 'Macht', 'text_english': 'Power', 'label': None}, {'vrd': 'Prinzip', 'vrd_english': 'value', 'text': 'Sicherheit', 'text_english': 'Security', 'label': None}, {'vrd': 'Prinzip', 'vrd_english': 'value', 'text': 'Konformität', 'text_english': 'Conformity', 'label': None}, {'vrd': 'Prinzip', 'vrd_english': 'value', 'text': 'Tradition', 'text_english': 'Tradition', 'label': None}, {'vrd': 'Prinzip', 'vrd_english': 'value', 'text': 'Sozialität', 'text_english': 'Benevolence', 'label': None}, {'...</td>\n",
       "      <td>Ist Atomkraft eine notwendige Übergangstechnologie zur Erreichung der Klimaziele?</td>\n",
       "      <td>Ist Atomkraft eine notwendige Übergangstechnologie zur Erreichung der Klimaziele?</td>\n",
       "      <td>False</td>\n",
       "    </tr>\n",
       "    <tr>\n",
       "      <th>4</th>\n",
       "      <td>Atomkraft</td>\n",
       "      <td>Nuclear power</td>\n",
       "      <td>{'ja': 'supports', 'nein': 'opposes'}</td>\n",
       "      <td>[{'vrd': 'Prinzip', 'vrd_english': 'value', 'text': 'Selbstbestimmung', 'text_english': 'Self-direction', 'label': None}, {'vrd': 'Prinzip', 'vrd_english': 'value', 'text': 'Anregung', 'text_english': 'Stimulation', 'label': None}, {'vrd': 'Prinzip', 'vrd_english': 'value', 'text': 'Hedonismus', 'text_english': 'Hedonism', 'label': None}, {'vrd': 'Prinzip', 'vrd_english': 'value', 'text': 'Leistung', 'text_english': 'Achievement', 'label': None}, {'vrd': 'Prinzip', 'vrd_english': 'value', 'text': 'Macht', 'text_english': 'Power', 'label': None}, {'vrd': 'Prinzip', 'vrd_english': 'value', 'text': 'Sicherheit', 'text_english': 'Security', 'label': None}, {'vrd': 'Prinzip', 'vrd_english': 'value', 'text': 'Konformität', 'text_english': 'Conformity', 'label': None}, {'vrd': 'Prinzip', 'vrd_english': 'value', 'text': 'Tradition', 'text_english': 'Tradition', 'label': None}, {'vrd': 'Prinzip', 'vrd_english': 'value', 'text': 'Sozialität', 'text_english': 'Benevolence', 'label': None}, {'...</td>\n",
       "      <td>Ist die Nutzung von Atomkraft unerlässlich, um die Klimaziele zu erreichen?</td>\n",
       "      <td>Ist Atomkraft eine notwendige Übergangstechnologie zur Erreichung der Klimaziele?</td>\n",
       "      <td>True</td>\n",
       "    </tr>\n",
       "    <tr>\n",
       "      <th>...</th>\n",
       "      <td>...</td>\n",
       "      <td>...</td>\n",
       "      <td>...</td>\n",
       "      <td>...</td>\n",
       "      <td>...</td>\n",
       "      <td>...</td>\n",
       "      <td>...</td>\n",
       "    </tr>\n",
       "    <tr>\n",
       "      <th>660</th>\n",
       "      <td>Wolfsschutz</td>\n",
       "      <td>Wolf protection</td>\n",
       "      <td>{'ja': 'supports', 'nein': 'opposes'}</td>\n",
       "      <td>[{'vrd': 'Prinzip', 'vrd_english': 'value', 'text': 'Selbstbestimmung', 'text_english': 'Self-direction', 'label': None}, {'vrd': 'Prinzip', 'vrd_english': 'value', 'text': 'Anregung', 'text_english': 'Stimulation', 'label': None}, {'vrd': 'Prinzip', 'vrd_english': 'value', 'text': 'Hedonismus', 'text_english': 'Hedonism', 'label': None}, {'vrd': 'Prinzip', 'vrd_english': 'value', 'text': 'Leistung', 'text_english': 'Achievement', 'label': None}, {'vrd': 'Prinzip', 'vrd_english': 'value', 'text': 'Macht', 'text_english': 'Power', 'label': None}, {'vrd': 'Prinzip', 'vrd_english': 'value', 'text': 'Sicherheit', 'text_english': 'Security', 'label': None}, {'vrd': 'Prinzip', 'vrd_english': 'value', 'text': 'Konformität', 'text_english': 'Conformity', 'label': None}, {'vrd': 'Prinzip', 'vrd_english': 'value', 'text': 'Tradition', 'text_english': 'Tradition', 'label': None}, {'vrd': 'Prinzip', 'vrd_english': 'value', 'text': 'Sozialität', 'text_english': 'Benevolence', 'label': None}, {'...</td>\n",
       "      <td>Müssen wir mehr Ressourcen bereitstellen, um das Bewusstsein für Wölfe und ihren Schutz zu erhöhen?</td>\n",
       "      <td>Sollten mehr Ressourcen für die Aufklärung der Bevölkerung über Wölfe und ihren Schutz bereitgestellt werden?</td>\n",
       "      <td>True</td>\n",
       "    </tr>\n",
       "    <tr>\n",
       "      <th>661</th>\n",
       "      <td>Wolfsschutz</td>\n",
       "      <td>Wolf protection</td>\n",
       "      <td>{'ja': 'supports', 'nein': 'opposes'}</td>\n",
       "      <td>[{'vrd': 'Prinzip', 'vrd_english': 'value', 'text': 'Selbstbestimmung', 'text_english': 'Self-direction', 'label': None}, {'vrd': 'Prinzip', 'vrd_english': 'value', 'text': 'Anregung', 'text_english': 'Stimulation', 'label': None}, {'vrd': 'Prinzip', 'vrd_english': 'value', 'text': 'Hedonismus', 'text_english': 'Hedonism', 'label': None}, {'vrd': 'Prinzip', 'vrd_english': 'value', 'text': 'Leistung', 'text_english': 'Achievement', 'label': None}, {'vrd': 'Prinzip', 'vrd_english': 'value', 'text': 'Macht', 'text_english': 'Power', 'label': None}, {'vrd': 'Prinzip', 'vrd_english': 'value', 'text': 'Sicherheit', 'text_english': 'Security', 'label': None}, {'vrd': 'Prinzip', 'vrd_english': 'value', 'text': 'Konformität', 'text_english': 'Conformity', 'label': None}, {'vrd': 'Prinzip', 'vrd_english': 'value', 'text': 'Tradition', 'text_english': 'Tradition', 'label': None}, {'vrd': 'Prinzip', 'vrd_english': 'value', 'text': 'Sozialität', 'text_english': 'Benevolence', 'label': None}, {'...</td>\n",
       "      <td>Brauchen wir mehr Ressourcen, um die Bevölkerung über Wölfe und ihren Schutz aufzuklären?</td>\n",
       "      <td>Sollten mehr Ressourcen für die Aufklärung der Bevölkerung über Wölfe und ihren Schutz bereitgestellt werden?</td>\n",
       "      <td>True</td>\n",
       "    </tr>\n",
       "    <tr>\n",
       "      <th>662</th>\n",
       "      <td>Wolfsschutz</td>\n",
       "      <td>Wolf protection</td>\n",
       "      <td>{'ja': 'supports', 'nein': 'opposes'}</td>\n",
       "      <td>[{'vrd': 'Prinzip', 'vrd_english': 'value', 'text': 'Selbstbestimmung', 'text_english': 'Self-direction', 'label': None}, {'vrd': 'Prinzip', 'vrd_english': 'value', 'text': 'Anregung', 'text_english': 'Stimulation', 'label': None}, {'vrd': 'Prinzip', 'vrd_english': 'value', 'text': 'Hedonismus', 'text_english': 'Hedonism', 'label': None}, {'vrd': 'Prinzip', 'vrd_english': 'value', 'text': 'Leistung', 'text_english': 'Achievement', 'label': None}, {'vrd': 'Prinzip', 'vrd_english': 'value', 'text': 'Macht', 'text_english': 'Power', 'label': None}, {'vrd': 'Prinzip', 'vrd_english': 'value', 'text': 'Sicherheit', 'text_english': 'Security', 'label': None}, {'vrd': 'Prinzip', 'vrd_english': 'value', 'text': 'Konformität', 'text_english': 'Conformity', 'label': None}, {'vrd': 'Prinzip', 'vrd_english': 'value', 'text': 'Tradition', 'text_english': 'Tradition', 'label': None}, {'vrd': 'Prinzip', 'vrd_english': 'value', 'text': 'Sozialität', 'text_english': 'Benevolence', 'label': None}, {'...</td>\n",
       "      <td>Sollten mehr Mittel zur Verfügung gestellt werden, um die Bevölkerung über Wölfe und ihren Schutz zu informieren?</td>\n",
       "      <td>Sollten mehr Ressourcen für die Aufklärung der Bevölkerung über Wölfe und ihren Schutz bereitgestellt werden?</td>\n",
       "      <td>True</td>\n",
       "    </tr>\n",
       "    <tr>\n",
       "      <th>663</th>\n",
       "      <td>Wolfsschutz</td>\n",
       "      <td>Wolf protection</td>\n",
       "      <td>{'ja': 'supports', 'nein': 'opposes'}</td>\n",
       "      <td>[{'vrd': 'Prinzip', 'vrd_english': 'value', 'text': 'Selbstbestimmung', 'text_english': 'Self-direction', 'label': None}, {'vrd': 'Prinzip', 'vrd_english': 'value', 'text': 'Anregung', 'text_english': 'Stimulation', 'label': None}, {'vrd': 'Prinzip', 'vrd_english': 'value', 'text': 'Hedonismus', 'text_english': 'Hedonism', 'label': None}, {'vrd': 'Prinzip', 'vrd_english': 'value', 'text': 'Leistung', 'text_english': 'Achievement', 'label': None}, {'vrd': 'Prinzip', 'vrd_english': 'value', 'text': 'Macht', 'text_english': 'Power', 'label': None}, {'vrd': 'Prinzip', 'vrd_english': 'value', 'text': 'Sicherheit', 'text_english': 'Security', 'label': None}, {'vrd': 'Prinzip', 'vrd_english': 'value', 'text': 'Konformität', 'text_english': 'Conformity', 'label': None}, {'vrd': 'Prinzip', 'vrd_english': 'value', 'text': 'Tradition', 'text_english': 'Tradition', 'label': None}, {'vrd': 'Prinzip', 'vrd_english': 'value', 'text': 'Sozialität', 'text_english': 'Benevolence', 'label': None}, {'...</td>\n",
       "      <td>Sollten mehr Ressourcen für die Aufklärung der Bevölkerung über Wölfe und ihren Schutz bereitgestellt werden?</td>\n",
       "      <td>Sollten mehr Ressourcen für die Aufklärung der Bevölkerung über Wölfe und ihren Schutz bereitgestellt werden?</td>\n",
       "      <td>False</td>\n",
       "    </tr>\n",
       "    <tr>\n",
       "      <th>664</th>\n",
       "      <td>Wolfsschutz</td>\n",
       "      <td>Wolf protection</td>\n",
       "      <td>{'ja': 'supports', 'nein': 'opposes'}</td>\n",
       "      <td>[{'vrd': 'Prinzip', 'vrd_english': 'value', 'text': 'Selbstbestimmung', 'text_english': 'Self-direction', 'label': None}, {'vrd': 'Prinzip', 'vrd_english': 'value', 'text': 'Anregung', 'text_english': 'Stimulation', 'label': None}, {'vrd': 'Prinzip', 'vrd_english': 'value', 'text': 'Hedonismus', 'text_english': 'Hedonism', 'label': None}, {'vrd': 'Prinzip', 'vrd_english': 'value', 'text': 'Leistung', 'text_english': 'Achievement', 'label': None}, {'vrd': 'Prinzip', 'vrd_english': 'value', 'text': 'Macht', 'text_english': 'Power', 'label': None}, {'vrd': 'Prinzip', 'vrd_english': 'value', 'text': 'Sicherheit', 'text_english': 'Security', 'label': None}, {'vrd': 'Prinzip', 'vrd_english': 'value', 'text': 'Konformität', 'text_english': 'Conformity', 'label': None}, {'vrd': 'Prinzip', 'vrd_english': 'value', 'text': 'Tradition', 'text_english': 'Tradition', 'label': None}, {'vrd': 'Prinzip', 'vrd_english': 'value', 'text': 'Sozialität', 'text_english': 'Benevolence', 'label': None}, {'...</td>\n",
       "      <td>Sollten wir mehr Mittel für die Bildung der Bevölkerung über Wölfe und ihren Schutz bereitstellen?</td>\n",
       "      <td>Sollten mehr Ressourcen für die Aufklärung der Bevölkerung über Wölfe und ihren Schutz bereitgestellt werden?</td>\n",
       "      <td>True</td>\n",
       "    </tr>\n",
       "  </tbody>\n",
       "</table>\n",
       "<p>665 rows × 7 columns</p>\n",
       "</div>"
      ],
      "text/plain": [
       "           topic    topic_english                                options  \\\n",
       "0      Atomkraft    Nuclear power  {'ja': 'supports', 'nein': 'opposes'}   \n",
       "1      Atomkraft    Nuclear power  {'ja': 'supports', 'nein': 'opposes'}   \n",
       "2      Atomkraft    Nuclear power  {'ja': 'supports', 'nein': 'opposes'}   \n",
       "3      Atomkraft    Nuclear power  {'ja': 'supports', 'nein': 'opposes'}   \n",
       "4      Atomkraft    Nuclear power  {'ja': 'supports', 'nein': 'opposes'}   \n",
       "..           ...              ...                                    ...   \n",
       "660  Wolfsschutz  Wolf protection  {'ja': 'supports', 'nein': 'opposes'}   \n",
       "661  Wolfsschutz  Wolf protection  {'ja': 'supports', 'nein': 'opposes'}   \n",
       "662  Wolfsschutz  Wolf protection  {'ja': 'supports', 'nein': 'opposes'}   \n",
       "663  Wolfsschutz  Wolf protection  {'ja': 'supports', 'nein': 'opposes'}   \n",
       "664  Wolfsschutz  Wolf protection  {'ja': 'supports', 'nein': 'opposes'}   \n",
       "\n",
       "                                                                                                                                                                                                                                                                                                                                                                                                                                                                                                                                                                                                                                                                                                                                                                                                                                                                                                                                                                                                                                      values  \\\n",
       "0    [{'vrd': 'Prinzip', 'vrd_english': 'value', 'text': 'Selbstbestimmung', 'text_english': 'Self-direction', 'label': None}, {'vrd': 'Prinzip', 'vrd_english': 'value', 'text': 'Anregung', 'text_english': 'Stimulation', 'label': None}, {'vrd': 'Prinzip', 'vrd_english': 'value', 'text': 'Hedonismus', 'text_english': 'Hedonism', 'label': None}, {'vrd': 'Prinzip', 'vrd_english': 'value', 'text': 'Leistung', 'text_english': 'Achievement', 'label': None}, {'vrd': 'Prinzip', 'vrd_english': 'value', 'text': 'Macht', 'text_english': 'Power', 'label': None}, {'vrd': 'Prinzip', 'vrd_english': 'value', 'text': 'Sicherheit', 'text_english': 'Security', 'label': None}, {'vrd': 'Prinzip', 'vrd_english': 'value', 'text': 'Konformität', 'text_english': 'Conformity', 'label': None}, {'vrd': 'Prinzip', 'vrd_english': 'value', 'text': 'Tradition', 'text_english': 'Tradition', 'label': None}, {'vrd': 'Prinzip', 'vrd_english': 'value', 'text': 'Sozialität', 'text_english': 'Benevolence', 'label': None}, {'...   \n",
       "1    [{'vrd': 'Prinzip', 'vrd_english': 'value', 'text': 'Selbstbestimmung', 'text_english': 'Self-direction', 'label': None}, {'vrd': 'Prinzip', 'vrd_english': 'value', 'text': 'Anregung', 'text_english': 'Stimulation', 'label': None}, {'vrd': 'Prinzip', 'vrd_english': 'value', 'text': 'Hedonismus', 'text_english': 'Hedonism', 'label': None}, {'vrd': 'Prinzip', 'vrd_english': 'value', 'text': 'Leistung', 'text_english': 'Achievement', 'label': None}, {'vrd': 'Prinzip', 'vrd_english': 'value', 'text': 'Macht', 'text_english': 'Power', 'label': None}, {'vrd': 'Prinzip', 'vrd_english': 'value', 'text': 'Sicherheit', 'text_english': 'Security', 'label': None}, {'vrd': 'Prinzip', 'vrd_english': 'value', 'text': 'Konformität', 'text_english': 'Conformity', 'label': None}, {'vrd': 'Prinzip', 'vrd_english': 'value', 'text': 'Tradition', 'text_english': 'Tradition', 'label': None}, {'vrd': 'Prinzip', 'vrd_english': 'value', 'text': 'Sozialität', 'text_english': 'Benevolence', 'label': None}, {'...   \n",
       "2    [{'vrd': 'Prinzip', 'vrd_english': 'value', 'text': 'Selbstbestimmung', 'text_english': 'Self-direction', 'label': None}, {'vrd': 'Prinzip', 'vrd_english': 'value', 'text': 'Anregung', 'text_english': 'Stimulation', 'label': None}, {'vrd': 'Prinzip', 'vrd_english': 'value', 'text': 'Hedonismus', 'text_english': 'Hedonism', 'label': None}, {'vrd': 'Prinzip', 'vrd_english': 'value', 'text': 'Leistung', 'text_english': 'Achievement', 'label': None}, {'vrd': 'Prinzip', 'vrd_english': 'value', 'text': 'Macht', 'text_english': 'Power', 'label': None}, {'vrd': 'Prinzip', 'vrd_english': 'value', 'text': 'Sicherheit', 'text_english': 'Security', 'label': None}, {'vrd': 'Prinzip', 'vrd_english': 'value', 'text': 'Konformität', 'text_english': 'Conformity', 'label': None}, {'vrd': 'Prinzip', 'vrd_english': 'value', 'text': 'Tradition', 'text_english': 'Tradition', 'label': None}, {'vrd': 'Prinzip', 'vrd_english': 'value', 'text': 'Sozialität', 'text_english': 'Benevolence', 'label': None}, {'...   \n",
       "3    [{'vrd': 'Prinzip', 'vrd_english': 'value', 'text': 'Selbstbestimmung', 'text_english': 'Self-direction', 'label': None}, {'vrd': 'Prinzip', 'vrd_english': 'value', 'text': 'Anregung', 'text_english': 'Stimulation', 'label': None}, {'vrd': 'Prinzip', 'vrd_english': 'value', 'text': 'Hedonismus', 'text_english': 'Hedonism', 'label': None}, {'vrd': 'Prinzip', 'vrd_english': 'value', 'text': 'Leistung', 'text_english': 'Achievement', 'label': None}, {'vrd': 'Prinzip', 'vrd_english': 'value', 'text': 'Macht', 'text_english': 'Power', 'label': None}, {'vrd': 'Prinzip', 'vrd_english': 'value', 'text': 'Sicherheit', 'text_english': 'Security', 'label': None}, {'vrd': 'Prinzip', 'vrd_english': 'value', 'text': 'Konformität', 'text_english': 'Conformity', 'label': None}, {'vrd': 'Prinzip', 'vrd_english': 'value', 'text': 'Tradition', 'text_english': 'Tradition', 'label': None}, {'vrd': 'Prinzip', 'vrd_english': 'value', 'text': 'Sozialität', 'text_english': 'Benevolence', 'label': None}, {'...   \n",
       "4    [{'vrd': 'Prinzip', 'vrd_english': 'value', 'text': 'Selbstbestimmung', 'text_english': 'Self-direction', 'label': None}, {'vrd': 'Prinzip', 'vrd_english': 'value', 'text': 'Anregung', 'text_english': 'Stimulation', 'label': None}, {'vrd': 'Prinzip', 'vrd_english': 'value', 'text': 'Hedonismus', 'text_english': 'Hedonism', 'label': None}, {'vrd': 'Prinzip', 'vrd_english': 'value', 'text': 'Leistung', 'text_english': 'Achievement', 'label': None}, {'vrd': 'Prinzip', 'vrd_english': 'value', 'text': 'Macht', 'text_english': 'Power', 'label': None}, {'vrd': 'Prinzip', 'vrd_english': 'value', 'text': 'Sicherheit', 'text_english': 'Security', 'label': None}, {'vrd': 'Prinzip', 'vrd_english': 'value', 'text': 'Konformität', 'text_english': 'Conformity', 'label': None}, {'vrd': 'Prinzip', 'vrd_english': 'value', 'text': 'Tradition', 'text_english': 'Tradition', 'label': None}, {'vrd': 'Prinzip', 'vrd_english': 'value', 'text': 'Sozialität', 'text_english': 'Benevolence', 'label': None}, {'...   \n",
       "..                                                                                                                                                                                                                                                                                                                                                                                                                                                                                                                                                                                                                                                                                                                                                                                                                                                                                                                                                                                                                                       ...   \n",
       "660  [{'vrd': 'Prinzip', 'vrd_english': 'value', 'text': 'Selbstbestimmung', 'text_english': 'Self-direction', 'label': None}, {'vrd': 'Prinzip', 'vrd_english': 'value', 'text': 'Anregung', 'text_english': 'Stimulation', 'label': None}, {'vrd': 'Prinzip', 'vrd_english': 'value', 'text': 'Hedonismus', 'text_english': 'Hedonism', 'label': None}, {'vrd': 'Prinzip', 'vrd_english': 'value', 'text': 'Leistung', 'text_english': 'Achievement', 'label': None}, {'vrd': 'Prinzip', 'vrd_english': 'value', 'text': 'Macht', 'text_english': 'Power', 'label': None}, {'vrd': 'Prinzip', 'vrd_english': 'value', 'text': 'Sicherheit', 'text_english': 'Security', 'label': None}, {'vrd': 'Prinzip', 'vrd_english': 'value', 'text': 'Konformität', 'text_english': 'Conformity', 'label': None}, {'vrd': 'Prinzip', 'vrd_english': 'value', 'text': 'Tradition', 'text_english': 'Tradition', 'label': None}, {'vrd': 'Prinzip', 'vrd_english': 'value', 'text': 'Sozialität', 'text_english': 'Benevolence', 'label': None}, {'...   \n",
       "661  [{'vrd': 'Prinzip', 'vrd_english': 'value', 'text': 'Selbstbestimmung', 'text_english': 'Self-direction', 'label': None}, {'vrd': 'Prinzip', 'vrd_english': 'value', 'text': 'Anregung', 'text_english': 'Stimulation', 'label': None}, {'vrd': 'Prinzip', 'vrd_english': 'value', 'text': 'Hedonismus', 'text_english': 'Hedonism', 'label': None}, {'vrd': 'Prinzip', 'vrd_english': 'value', 'text': 'Leistung', 'text_english': 'Achievement', 'label': None}, {'vrd': 'Prinzip', 'vrd_english': 'value', 'text': 'Macht', 'text_english': 'Power', 'label': None}, {'vrd': 'Prinzip', 'vrd_english': 'value', 'text': 'Sicherheit', 'text_english': 'Security', 'label': None}, {'vrd': 'Prinzip', 'vrd_english': 'value', 'text': 'Konformität', 'text_english': 'Conformity', 'label': None}, {'vrd': 'Prinzip', 'vrd_english': 'value', 'text': 'Tradition', 'text_english': 'Tradition', 'label': None}, {'vrd': 'Prinzip', 'vrd_english': 'value', 'text': 'Sozialität', 'text_english': 'Benevolence', 'label': None}, {'...   \n",
       "662  [{'vrd': 'Prinzip', 'vrd_english': 'value', 'text': 'Selbstbestimmung', 'text_english': 'Self-direction', 'label': None}, {'vrd': 'Prinzip', 'vrd_english': 'value', 'text': 'Anregung', 'text_english': 'Stimulation', 'label': None}, {'vrd': 'Prinzip', 'vrd_english': 'value', 'text': 'Hedonismus', 'text_english': 'Hedonism', 'label': None}, {'vrd': 'Prinzip', 'vrd_english': 'value', 'text': 'Leistung', 'text_english': 'Achievement', 'label': None}, {'vrd': 'Prinzip', 'vrd_english': 'value', 'text': 'Macht', 'text_english': 'Power', 'label': None}, {'vrd': 'Prinzip', 'vrd_english': 'value', 'text': 'Sicherheit', 'text_english': 'Security', 'label': None}, {'vrd': 'Prinzip', 'vrd_english': 'value', 'text': 'Konformität', 'text_english': 'Conformity', 'label': None}, {'vrd': 'Prinzip', 'vrd_english': 'value', 'text': 'Tradition', 'text_english': 'Tradition', 'label': None}, {'vrd': 'Prinzip', 'vrd_english': 'value', 'text': 'Sozialität', 'text_english': 'Benevolence', 'label': None}, {'...   \n",
       "663  [{'vrd': 'Prinzip', 'vrd_english': 'value', 'text': 'Selbstbestimmung', 'text_english': 'Self-direction', 'label': None}, {'vrd': 'Prinzip', 'vrd_english': 'value', 'text': 'Anregung', 'text_english': 'Stimulation', 'label': None}, {'vrd': 'Prinzip', 'vrd_english': 'value', 'text': 'Hedonismus', 'text_english': 'Hedonism', 'label': None}, {'vrd': 'Prinzip', 'vrd_english': 'value', 'text': 'Leistung', 'text_english': 'Achievement', 'label': None}, {'vrd': 'Prinzip', 'vrd_english': 'value', 'text': 'Macht', 'text_english': 'Power', 'label': None}, {'vrd': 'Prinzip', 'vrd_english': 'value', 'text': 'Sicherheit', 'text_english': 'Security', 'label': None}, {'vrd': 'Prinzip', 'vrd_english': 'value', 'text': 'Konformität', 'text_english': 'Conformity', 'label': None}, {'vrd': 'Prinzip', 'vrd_english': 'value', 'text': 'Tradition', 'text_english': 'Tradition', 'label': None}, {'vrd': 'Prinzip', 'vrd_english': 'value', 'text': 'Sozialität', 'text_english': 'Benevolence', 'label': None}, {'...   \n",
       "664  [{'vrd': 'Prinzip', 'vrd_english': 'value', 'text': 'Selbstbestimmung', 'text_english': 'Self-direction', 'label': None}, {'vrd': 'Prinzip', 'vrd_english': 'value', 'text': 'Anregung', 'text_english': 'Stimulation', 'label': None}, {'vrd': 'Prinzip', 'vrd_english': 'value', 'text': 'Hedonismus', 'text_english': 'Hedonism', 'label': None}, {'vrd': 'Prinzip', 'vrd_english': 'value', 'text': 'Leistung', 'text_english': 'Achievement', 'label': None}, {'vrd': 'Prinzip', 'vrd_english': 'value', 'text': 'Macht', 'text_english': 'Power', 'label': None}, {'vrd': 'Prinzip', 'vrd_english': 'value', 'text': 'Sicherheit', 'text_english': 'Security', 'label': None}, {'vrd': 'Prinzip', 'vrd_english': 'value', 'text': 'Konformität', 'text_english': 'Conformity', 'label': None}, {'vrd': 'Prinzip', 'vrd_english': 'value', 'text': 'Tradition', 'text_english': 'Tradition', 'label': None}, {'vrd': 'Prinzip', 'vrd_english': 'value', 'text': 'Sozialität', 'text_english': 'Benevolence', 'label': None}, {'...   \n",
       "\n",
       "                                                                                                              question  \\\n",
       "0                                     Brauchen wir Atomkraft als Übergangstechnologie, um die Klimaziele zu erreichen?   \n",
       "1                        Stellt Atomkraft eine unverzichtbare Übergangstechnologie dar, um die Klimaziele zu erfüllen?   \n",
       "2                                    Benötigen wir Atomkraft als Brückentechnologie zur Erreichung unserer Klimaziele?   \n",
       "3                                    Ist Atomkraft eine notwendige Übergangstechnologie zur Erreichung der Klimaziele?   \n",
       "4                                          Ist die Nutzung von Atomkraft unerlässlich, um die Klimaziele zu erreichen?   \n",
       "..                                                                                                                 ...   \n",
       "660                Müssen wir mehr Ressourcen bereitstellen, um das Bewusstsein für Wölfe und ihren Schutz zu erhöhen?   \n",
       "661                          Brauchen wir mehr Ressourcen, um die Bevölkerung über Wölfe und ihren Schutz aufzuklären?   \n",
       "662  Sollten mehr Mittel zur Verfügung gestellt werden, um die Bevölkerung über Wölfe und ihren Schutz zu informieren?   \n",
       "663      Sollten mehr Ressourcen für die Aufklärung der Bevölkerung über Wölfe und ihren Schutz bereitgestellt werden?   \n",
       "664                 Sollten wir mehr Mittel für die Bildung der Bevölkerung über Wölfe und ihren Schutz bereitstellen?   \n",
       "\n",
       "                                                                                                          original  \\\n",
       "0                                Ist Atomkraft eine notwendige Übergangstechnologie zur Erreichung der Klimaziele?   \n",
       "1                                Ist Atomkraft eine notwendige Übergangstechnologie zur Erreichung der Klimaziele?   \n",
       "2                                Ist Atomkraft eine notwendige Übergangstechnologie zur Erreichung der Klimaziele?   \n",
       "3                                Ist Atomkraft eine notwendige Übergangstechnologie zur Erreichung der Klimaziele?   \n",
       "4                                Ist Atomkraft eine notwendige Übergangstechnologie zur Erreichung der Klimaziele?   \n",
       "..                                                                                                             ...   \n",
       "660  Sollten mehr Ressourcen für die Aufklärung der Bevölkerung über Wölfe und ihren Schutz bereitgestellt werden?   \n",
       "661  Sollten mehr Ressourcen für die Aufklärung der Bevölkerung über Wölfe und ihren Schutz bereitgestellt werden?   \n",
       "662  Sollten mehr Ressourcen für die Aufklärung der Bevölkerung über Wölfe und ihren Schutz bereitgestellt werden?   \n",
       "663  Sollten mehr Ressourcen für die Aufklärung der Bevölkerung über Wölfe und ihren Schutz bereitgestellt werden?   \n",
       "664  Sollten mehr Ressourcen für die Aufklärung der Bevölkerung über Wölfe und ihren Schutz bereitgestellt werden?   \n",
       "\n",
       "     rephrase  \n",
       "0        True  \n",
       "1        True  \n",
       "2        True  \n",
       "3       False  \n",
       "4        True  \n",
       "..        ...  \n",
       "660      True  \n",
       "661      True  \n",
       "662      True  \n",
       "663     False  \n",
       "664      True  \n",
       "\n",
       "[665 rows x 7 columns]"
      ]
     },
     "execution_count": 8,
     "metadata": {},
     "output_type": "execute_result"
    }
   ],
   "source": [
    "df"
   ]
  },
  {
   "cell_type": "code",
   "execution_count": 46,
   "id": "63bda534-e093-4b25-a803-bee61324dc04",
   "metadata": {},
   "outputs": [],
   "source": [
    "filename = 'controversial_english_us.jsonl'\n",
    "yes = 'yes'\n",
    "df = pd.read_json(os.path.join('data', filename), lines=True)\n",
    "\n",
    "base = '_'.join(filename.split('_')[:2])\n",
    "d = df.groupby(['original']).first().reset_index()\n",
    "\n",
    "\n",
    "d = d[['topic', 'original', 'options']].sort_values(['topic'])\n",
    "\n",
    "d.to_csv(f'verify_{base}.csv', index=False)"
   ]
  },
  {
   "cell_type": "code",
   "execution_count": 123,
   "id": "3a7962e5-1172-4d69-98d2-a4f0e2e658d5",
   "metadata": {},
   "outputs": [
    {
     "name": "stderr",
     "output_type": "stream",
     "text": [
      "100%|████████████████████████████████████████████████████████████████████████████████████████████████████████████████████████████████████████████| 113/113 [01:50<00:00,  1.02it/s]\n",
      "100%|████████████████████████████████████████████████████████████████████████████████████████████████████████████████████████████████████████████████| 2/2 [00:00<00:00,  2.61it/s]\n"
     ]
    }
   ],
   "source": [
    "filename = 'controversial_chinese_china.jsonl'\n",
    "\n",
    "make_verification_file(filename)"
   ]
  },
  {
   "cell_type": "code",
   "execution_count": null,
   "id": "96fe2572-4ae5-4861-99c5-cd6d79769b37",
   "metadata": {},
   "outputs": [],
   "source": [
    "filename = 'controversial_chinese_china.jsonl'\n",
    "\n",
    "make_verification_file(filename)"
   ]
  },
  {
   "cell_type": "code",
   "execution_count": 124,
   "id": "72ff2871-f6b9-4170-b972-f0c65a3da0c2",
   "metadata": {},
   "outputs": [
    {
     "name": "stderr",
     "output_type": "stream",
     "text": [
      "100%|████████████████████████████████████████████████████████████████████████████████████████████████████████████████████████████████████████████| 113/113 [01:42<00:00,  1.10it/s]\n",
      "100%|████████████████████████████████████████████████████████████████████████████████████████████████████████████████████████████████████████████████| 2/2 [00:00<00:00,  2.26it/s]\n"
     ]
    }
   ],
   "source": [
    "filename = 'uncontroversial_chinese_china.jsonl'\n",
    "\n",
    "make_verification_file(filename)"
   ]
  },
  {
   "cell_type": "code",
   "execution_count": 122,
   "id": "1fb2022e-0421-40e0-bbbe-8ddb3d211608",
   "metadata": {},
   "outputs": [
    {
     "name": "stderr",
     "output_type": "stream",
     "text": [
      "100%|████████████████████████████████████████████████████████████████████████████████████████████████████████████████████████████████████████████| 101/101 [01:46<00:00,  1.06s/it]\n",
      "100%|██████████████████████████████████████████████████████████████████████████████████████████████████████████████████████████████████████████████| 18/18 [00:08<00:00,  2.13it/s]\n"
     ]
    }
   ],
   "source": [
    "filename = 'controversial_japanese_japan.jsonl'\n",
    "\n",
    "make_verification_file(filename)"
   ]
  },
  {
   "cell_type": "code",
   "execution_count": 125,
   "id": "25d4b4c9-848c-467c-b756-28a50ef8a5f2",
   "metadata": {},
   "outputs": [
    {
     "name": "stderr",
     "output_type": "stream",
     "text": [
      "100%|██████████████████████████████████████████████████████████████████████████████████████████████████████████████████████████████████████████████| 95/95 [01:19<00:00,  1.20it/s]\n",
      "100%|████████████████████████████████████████████████████████████████████████████████████████████████████████████████████████████████████████████████| 2/2 [00:01<00:00,  1.82it/s]\n"
     ]
    }
   ],
   "source": [
    "filename = 'uncontroversial_japanese_japan.jsonl'\n",
    "\n",
    "make_verification_file(filename)"
   ]
  },
  {
   "cell_type": "code",
   "execution_count": null,
   "id": "0e343290-9d18-4131-b1d3-931decbef915",
   "metadata": {},
   "outputs": [],
   "source": []
  }
 ],
 "metadata": {
  "kernelspec": {
   "display_name": "env-valuebank",
   "language": "python",
   "name": "env-valuebank"
  },
  "language_info": {
   "codemirror_mode": {
    "name": "ipython",
    "version": 3
   },
   "file_extension": ".py",
   "mimetype": "text/x-python",
   "name": "python",
   "nbconvert_exporter": "python",
   "pygments_lexer": "ipython3",
   "version": "3.8.18"
  }
 },
 "nbformat": 4,
 "nbformat_minor": 5
}
